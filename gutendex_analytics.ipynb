{
 "cells": [
  {
   "cell_type": "markdown",
   "metadata": {
    "colab_type": "text",
    "id": "view-in-github"
   },
   "source": [
    "<a href=\"https://colab.research.google.com/github/JohannPalheiros/gutendex-analytics/blob/main/gutendex_analytics.ipynb\" target=\"_parent\"><img src=\"https://colab.research.google.com/assets/colab-badge.svg\" alt=\"Open In Colab\"/></a>"
   ]
  },
  {
   "cell_type": "code",
   "execution_count": 163,
   "metadata": {
    "id": "fsJ7buxMf-sb"
   },
   "outputs": [],
   "source": [
    "#%% Importações e constantes \n",
    "import requests as req\n",
    "import numpy as np\n",
    "import pandas as pd\n",
    "import matplotlib as plt\n",
    "import json as js\n",
    "import math\n",
    "\n",
    "CONST_DECODE_UTF8 = 'utf-8'\n",
    "CONST_GUTENDEX_BOOKS_URL = 'https://gutendex.com/books/'\n",
    "CONST_GUTENDEX_PAGE_PARAM = '?page='\n",
    "\n",
    "CONST_PERCENT_TO_USE = 0.01\n",
    "CONST_COUNT_STR = 'count'\n",
    "CONST_RESULTS_STR = 'results'\n",
    "CONST_PERCENT_USED_TO_SHOW = CONST_PERCENT_TO_USE * 100"
   ]
  },
  {
   "cell_type": "code",
   "execution_count": 164,
   "metadata": {
    "colab": {
     "base_uri": "https://localhost:8080/"
    },
    "id": "97fl65a7hhh7",
    "outputId": "24465e60-ac61-4e7b-9b0d-be65f1a72988"
   },
   "outputs": [
    {
     "name": "stdout",
     "output_type": "stream",
     "text": [
      "Total de todos os livros existentes no gutendex: 72007\n",
      "Total de livros por pagina: 32\n"
     ]
    }
   ],
   "source": [
    "#%% Requisição para verificar quantidade de livros disponiveis\n",
    "booksDataBytes = req.get(CONST_GUTENDEX_BOOKS_URL).content\n",
    "allBooksReqData = js.loads(booksDataBytes.decode(CONST_DECODE_UTF8))\n",
    "allBooksCount = allBooksReqData[CONST_COUNT_STR]\n",
    "totalItensPerPage = len(allBooksReqData[CONST_RESULTS_STR])\n",
    "\n",
    "print('Total de todos os livros existentes no gutendex:', allBooksCount)\n",
    "print('Total de livros por pagina:', totalItensPerPage)"
   ]
  },
  {
   "cell_type": "code",
   "execution_count": 165,
   "metadata": {
    "colab": {
     "base_uri": "https://localhost:8080/"
    },
    "id": "Cw4opPoxk43_",
    "outputId": "2c810448-e7a5-495b-9a6b-fbfe6c92d446"
   },
   "outputs": [
    {
     "name": "stdout",
     "output_type": "stream",
     "text": [
      "Total de 1 % dos livros: 720\n",
      "Total de requisições necessarias: 23\n"
     ]
    }
   ],
   "source": [
    "#%% Pegando apenas amostra de 1% do total de livros\n",
    "onePercentOfAllBooks = round(allBooksCount * CONST_PERCENT_TO_USE)\n",
    "totalRequests = math.ceil(onePercentOfAllBooks / totalItensPerPage)\n",
    "\n",
    "print('Total de', int(CONST_PERCENT_USED_TO_SHOW), '% dos livros:', onePercentOfAllBooks)\n",
    "print('Total de requisições necessarias:', totalRequests)"
   ]
  },
  {
   "cell_type": "code",
   "execution_count": 166,
   "metadata": {
    "colab": {
     "base_uri": "https://localhost:8080/"
    },
    "id": "bvGKTJdrljW3",
    "outputId": "e5dffece-f8d9-46b8-c1e2-d1b46f1051be"
   },
   "outputs": [
    {
     "name": "stdout",
     "output_type": "stream",
     "text": [
      "Total de livros retornados que serão usados: 736\n"
     ]
    }
   ],
   "source": [
    "#%% Iniciando requisições para carga de dados\n",
    "booksListData = []\n",
    "\n",
    "for index in range(1, totalRequests+1):\n",
    "  urlToReq = CONST_GUTENDEX_BOOKS_URL + CONST_GUTENDEX_PAGE_PARAM + str(index)\n",
    "  dataFromReq = req.get(urlToReq).content\n",
    "  dataDecoded = js.loads(dataFromReq.decode(CONST_DECODE_UTF8))\n",
    "  booksListData = booksListData + dataDecoded[CONST_RESULTS_STR]\n",
    "\n",
    "print('Total de livros retornados que serão usados:', len(booksListData))"
   ]
  },
  {
   "cell_type": "code",
   "execution_count": 167,
   "metadata": {
    "colab": {
     "base_uri": "https://localhost:8080/",
     "height": 718
    },
    "id": "XQFT9HiXh594",
    "outputId": "cd19ba68-05c0-43ea-92d7-eb576794149c"
   },
   "outputs": [
    {
     "data": {
      "text/html": [
       "<div>\n",
       "<style scoped>\n",
       "    .dataframe tbody tr th:only-of-type {\n",
       "        vertical-align: middle;\n",
       "    }\n",
       "\n",
       "    .dataframe tbody tr th {\n",
       "        vertical-align: top;\n",
       "    }\n",
       "\n",
       "    .dataframe thead th {\n",
       "        text-align: right;\n",
       "    }\n",
       "</style>\n",
       "<table border=\"1\" class=\"dataframe\">\n",
       "  <thead>\n",
       "    <tr style=\"text-align: right;\">\n",
       "      <th></th>\n",
       "      <th>id</th>\n",
       "      <th>title</th>\n",
       "      <th>authors</th>\n",
       "      <th>translators</th>\n",
       "      <th>subjects</th>\n",
       "      <th>bookshelves</th>\n",
       "      <th>languages</th>\n",
       "      <th>copyright</th>\n",
       "      <th>media_type</th>\n",
       "      <th>formats</th>\n",
       "      <th>download_count</th>\n",
       "    </tr>\n",
       "  </thead>\n",
       "  <tbody>\n",
       "    <tr>\n",
       "      <th>0</th>\n",
       "      <td>84</td>\n",
       "      <td>Frankenstein; Or, The Modern Prometheus</td>\n",
       "      <td>[{'name': 'Shelley, Mary Wollstonecraft', 'bir...</td>\n",
       "      <td>[]</td>\n",
       "      <td>[Frankenstein's monster (Fictitious character)...</td>\n",
       "      <td>[Gothic Fiction, Movie Books, Precursors of Sc...</td>\n",
       "      <td>[en]</td>\n",
       "      <td>False</td>\n",
       "      <td>Text</td>\n",
       "      <td>{'text/plain': 'https://www.gutenberg.org/eboo...</td>\n",
       "      <td>84070</td>\n",
       "    </tr>\n",
       "    <tr>\n",
       "      <th>1</th>\n",
       "      <td>1513</td>\n",
       "      <td>Romeo and Juliet</td>\n",
       "      <td>[{'name': 'Shakespeare, William', 'birth_year'...</td>\n",
       "      <td>[]</td>\n",
       "      <td>[Conflict of generations -- Drama, Juliet (Fic...</td>\n",
       "      <td>[]</td>\n",
       "      <td>[en]</td>\n",
       "      <td>False</td>\n",
       "      <td>Text</td>\n",
       "      <td>{'application/x-mobipocket-ebook': 'https://ww...</td>\n",
       "      <td>60644</td>\n",
       "    </tr>\n",
       "    <tr>\n",
       "      <th>2</th>\n",
       "      <td>1342</td>\n",
       "      <td>Pride and Prejudice</td>\n",
       "      <td>[{'name': 'Austen, Jane', 'birth_year': 1775, ...</td>\n",
       "      <td>[]</td>\n",
       "      <td>[Courtship -- Fiction, Domestic fiction, Engla...</td>\n",
       "      <td>[Best Books Ever Listings, Harvard Classics]</td>\n",
       "      <td>[en]</td>\n",
       "      <td>False</td>\n",
       "      <td>Text</td>\n",
       "      <td>{'application/octet-stream': 'https://www.gute...</td>\n",
       "      <td>53375</td>\n",
       "    </tr>\n",
       "    <tr>\n",
       "      <th>3</th>\n",
       "      <td>25344</td>\n",
       "      <td>The Scarlet Letter</td>\n",
       "      <td>[{'name': 'Hawthorne, Nathaniel', 'birth_year'...</td>\n",
       "      <td>[]</td>\n",
       "      <td>[Adultery -- Fiction, Boston (Mass.) -- Histor...</td>\n",
       "      <td>[Banned Books from Anne Haight's list]</td>\n",
       "      <td>[en]</td>\n",
       "      <td>False</td>\n",
       "      <td>Text</td>\n",
       "      <td>{'text/plain; charset=us-ascii': 'https://www....</td>\n",
       "      <td>38073</td>\n",
       "    </tr>\n",
       "    <tr>\n",
       "      <th>4</th>\n",
       "      <td>11</td>\n",
       "      <td>Alice's Adventures in Wonderland</td>\n",
       "      <td>[{'name': 'Carroll, Lewis', 'birth_year': 1832...</td>\n",
       "      <td>[]</td>\n",
       "      <td>[Alice (Fictitious character from Carroll) -- ...</td>\n",
       "      <td>[Children's Literature]</td>\n",
       "      <td>[en]</td>\n",
       "      <td>False</td>\n",
       "      <td>Text</td>\n",
       "      <td>{'text/plain': 'https://www.gutenberg.org/eboo...</td>\n",
       "      <td>30353</td>\n",
       "    </tr>\n",
       "    <tr>\n",
       "      <th>...</th>\n",
       "      <td>...</td>\n",
       "      <td>...</td>\n",
       "      <td>...</td>\n",
       "      <td>...</td>\n",
       "      <td>...</td>\n",
       "      <td>...</td>\n",
       "      <td>...</td>\n",
       "      <td>...</td>\n",
       "      <td>...</td>\n",
       "      <td>...</td>\n",
       "      <td>...</td>\n",
       "    </tr>\n",
       "    <tr>\n",
       "      <th>731</th>\n",
       "      <td>28299</td>\n",
       "      <td>The Orbis Pictus</td>\n",
       "      <td>[{'name': 'Comenius, Johann Amos', 'birth_year...</td>\n",
       "      <td>[{'name': 'Hoole, Charles', 'birth_year': 1610...</td>\n",
       "      <td>[Latin language -- Readers, Natural history --...</td>\n",
       "      <td>[]</td>\n",
       "      <td>[en]</td>\n",
       "      <td>False</td>\n",
       "      <td>Text</td>\n",
       "      <td>{'application/x-mobipocket-ebook': 'https://ww...</td>\n",
       "      <td>1042</td>\n",
       "    </tr>\n",
       "    <tr>\n",
       "      <th>732</th>\n",
       "      <td>2131</td>\n",
       "      <td>An Account of Egypt</td>\n",
       "      <td>[{'name': 'Herodotus', 'birth_year': -484, 'de...</td>\n",
       "      <td>[{'name': 'Macaulay, G. C. (George Campbell)',...</td>\n",
       "      <td>[Egypt -- History -- To 332 B.C.]</td>\n",
       "      <td>[Egypt]</td>\n",
       "      <td>[en]</td>\n",
       "      <td>False</td>\n",
       "      <td>Text</td>\n",
       "      <td>{'application/octet-stream': 'https://www.gute...</td>\n",
       "      <td>1040</td>\n",
       "    </tr>\n",
       "    <tr>\n",
       "      <th>733</th>\n",
       "      <td>15859</td>\n",
       "      <td>The Piazza Tales</td>\n",
       "      <td>[{'name': 'Melville, Herman', 'birth_year': 18...</td>\n",
       "      <td>[]</td>\n",
       "      <td>[Manners and customs -- Fiction, Short stories]</td>\n",
       "      <td>[]</td>\n",
       "      <td>[en]</td>\n",
       "      <td>False</td>\n",
       "      <td>Text</td>\n",
       "      <td>{'text/plain; charset=us-ascii': 'https://www....</td>\n",
       "      <td>1040</td>\n",
       "    </tr>\n",
       "    <tr>\n",
       "      <th>734</th>\n",
       "      <td>71814</td>\n",
       "      <td>The railhead at Kysyl Khoto</td>\n",
       "      <td>[{'name': 'Lang, Allen Kim', 'birth_year': 192...</td>\n",
       "      <td>[]</td>\n",
       "      <td>[Cold War -- Fiction, Science fiction, Short s...</td>\n",
       "      <td>[]</td>\n",
       "      <td>[en]</td>\n",
       "      <td>False</td>\n",
       "      <td>Text</td>\n",
       "      <td>{'application/octet-stream': 'https://www.gute...</td>\n",
       "      <td>1039</td>\n",
       "    </tr>\n",
       "    <tr>\n",
       "      <th>735</th>\n",
       "      <td>31706</td>\n",
       "      <td>Milton: Minor Poems</td>\n",
       "      <td>[{'name': 'Milton, John', 'birth_year': 1608, ...</td>\n",
       "      <td>[]</td>\n",
       "      <td>[English poetry -- Early modern, 1500-1700]</td>\n",
       "      <td>[]</td>\n",
       "      <td>[en]</td>\n",
       "      <td>False</td>\n",
       "      <td>Text</td>\n",
       "      <td>{'application/x-mobipocket-ebook': 'https://ww...</td>\n",
       "      <td>1037</td>\n",
       "    </tr>\n",
       "  </tbody>\n",
       "</table>\n",
       "<p>736 rows × 11 columns</p>\n",
       "</div>"
      ],
      "text/plain": [
       "        id                                    title  \\\n",
       "0       84  Frankenstein; Or, The Modern Prometheus   \n",
       "1     1513                         Romeo and Juliet   \n",
       "2     1342                      Pride and Prejudice   \n",
       "3    25344                       The Scarlet Letter   \n",
       "4       11         Alice's Adventures in Wonderland   \n",
       "..     ...                                      ...   \n",
       "731  28299                         The Orbis Pictus   \n",
       "732   2131                      An Account of Egypt   \n",
       "733  15859                         The Piazza Tales   \n",
       "734  71814              The railhead at Kysyl Khoto   \n",
       "735  31706                      Milton: Minor Poems   \n",
       "\n",
       "                                               authors  \\\n",
       "0    [{'name': 'Shelley, Mary Wollstonecraft', 'bir...   \n",
       "1    [{'name': 'Shakespeare, William', 'birth_year'...   \n",
       "2    [{'name': 'Austen, Jane', 'birth_year': 1775, ...   \n",
       "3    [{'name': 'Hawthorne, Nathaniel', 'birth_year'...   \n",
       "4    [{'name': 'Carroll, Lewis', 'birth_year': 1832...   \n",
       "..                                                 ...   \n",
       "731  [{'name': 'Comenius, Johann Amos', 'birth_year...   \n",
       "732  [{'name': 'Herodotus', 'birth_year': -484, 'de...   \n",
       "733  [{'name': 'Melville, Herman', 'birth_year': 18...   \n",
       "734  [{'name': 'Lang, Allen Kim', 'birth_year': 192...   \n",
       "735  [{'name': 'Milton, John', 'birth_year': 1608, ...   \n",
       "\n",
       "                                           translators  \\\n",
       "0                                                   []   \n",
       "1                                                   []   \n",
       "2                                                   []   \n",
       "3                                                   []   \n",
       "4                                                   []   \n",
       "..                                                 ...   \n",
       "731  [{'name': 'Hoole, Charles', 'birth_year': 1610...   \n",
       "732  [{'name': 'Macaulay, G. C. (George Campbell)',...   \n",
       "733                                                 []   \n",
       "734                                                 []   \n",
       "735                                                 []   \n",
       "\n",
       "                                              subjects  \\\n",
       "0    [Frankenstein's monster (Fictitious character)...   \n",
       "1    [Conflict of generations -- Drama, Juliet (Fic...   \n",
       "2    [Courtship -- Fiction, Domestic fiction, Engla...   \n",
       "3    [Adultery -- Fiction, Boston (Mass.) -- Histor...   \n",
       "4    [Alice (Fictitious character from Carroll) -- ...   \n",
       "..                                                 ...   \n",
       "731  [Latin language -- Readers, Natural history --...   \n",
       "732                  [Egypt -- History -- To 332 B.C.]   \n",
       "733    [Manners and customs -- Fiction, Short stories]   \n",
       "734  [Cold War -- Fiction, Science fiction, Short s...   \n",
       "735        [English poetry -- Early modern, 1500-1700]   \n",
       "\n",
       "                                           bookshelves languages  copyright  \\\n",
       "0    [Gothic Fiction, Movie Books, Precursors of Sc...      [en]      False   \n",
       "1                                                   []      [en]      False   \n",
       "2         [Best Books Ever Listings, Harvard Classics]      [en]      False   \n",
       "3               [Banned Books from Anne Haight's list]      [en]      False   \n",
       "4                              [Children's Literature]      [en]      False   \n",
       "..                                                 ...       ...        ...   \n",
       "731                                                 []      [en]      False   \n",
       "732                                            [Egypt]      [en]      False   \n",
       "733                                                 []      [en]      False   \n",
       "734                                                 []      [en]      False   \n",
       "735                                                 []      [en]      False   \n",
       "\n",
       "    media_type                                            formats  \\\n",
       "0         Text  {'text/plain': 'https://www.gutenberg.org/eboo...   \n",
       "1         Text  {'application/x-mobipocket-ebook': 'https://ww...   \n",
       "2         Text  {'application/octet-stream': 'https://www.gute...   \n",
       "3         Text  {'text/plain; charset=us-ascii': 'https://www....   \n",
       "4         Text  {'text/plain': 'https://www.gutenberg.org/eboo...   \n",
       "..         ...                                                ...   \n",
       "731       Text  {'application/x-mobipocket-ebook': 'https://ww...   \n",
       "732       Text  {'application/octet-stream': 'https://www.gute...   \n",
       "733       Text  {'text/plain; charset=us-ascii': 'https://www....   \n",
       "734       Text  {'application/octet-stream': 'https://www.gute...   \n",
       "735       Text  {'application/x-mobipocket-ebook': 'https://ww...   \n",
       "\n",
       "     download_count  \n",
       "0             84070  \n",
       "1             60644  \n",
       "2             53375  \n",
       "3             38073  \n",
       "4             30353  \n",
       "..              ...  \n",
       "731            1042  \n",
       "732            1040  \n",
       "733            1040  \n",
       "734            1039  \n",
       "735            1037  \n",
       "\n",
       "[736 rows x 11 columns]"
      ]
     },
     "execution_count": 167,
     "metadata": {},
     "output_type": "execute_result"
    }
   ],
   "source": [
    "#%% Bloco para exibir dataframe\n",
    "booksDataDf = pd.DataFrame(booksListData)\n",
    "\n",
    "booksDataDf"
   ]
  },
  {
   "cell_type": "code",
   "execution_count": 168,
   "metadata": {
    "colab": {
     "base_uri": "https://localhost:8080/",
     "height": 206
    },
    "id": "H_sArc73r9sj",
    "outputId": "7021d451-4e8e-4c77-ab25-1847bee2f008"
   },
   "outputs": [
    {
     "data": {
      "text/html": [
       "<div>\n",
       "<style scoped>\n",
       "    .dataframe tbody tr th:only-of-type {\n",
       "        vertical-align: middle;\n",
       "    }\n",
       "\n",
       "    .dataframe tbody tr th {\n",
       "        vertical-align: top;\n",
       "    }\n",
       "\n",
       "    .dataframe thead th {\n",
       "        text-align: right;\n",
       "    }\n",
       "</style>\n",
       "<table border=\"1\" class=\"dataframe\">\n",
       "  <thead>\n",
       "    <tr style=\"text-align: right;\">\n",
       "      <th></th>\n",
       "      <th>authors</th>\n",
       "    </tr>\n",
       "  </thead>\n",
       "  <tbody>\n",
       "    <tr>\n",
       "      <th>0</th>\n",
       "      <td>Shelley, Mary Wollstonecraft</td>\n",
       "    </tr>\n",
       "    <tr>\n",
       "      <th>1</th>\n",
       "      <td>Shakespeare, William</td>\n",
       "    </tr>\n",
       "    <tr>\n",
       "      <th>2</th>\n",
       "      <td>Austen, Jane</td>\n",
       "    </tr>\n",
       "    <tr>\n",
       "      <th>3</th>\n",
       "      <td>Hawthorne, Nathaniel</td>\n",
       "    </tr>\n",
       "    <tr>\n",
       "      <th>4</th>\n",
       "      <td>Carroll, Lewis</td>\n",
       "    </tr>\n",
       "  </tbody>\n",
       "</table>\n",
       "</div>"
      ],
      "text/plain": [
       "                        authors\n",
       "0  Shelley, Mary Wollstonecraft\n",
       "1          Shakespeare, William\n",
       "2                  Austen, Jane\n",
       "3          Hawthorne, Nathaniel\n",
       "4                Carroll, Lewis"
      ]
     },
     "execution_count": 168,
     "metadata": {},
     "output_type": "execute_result"
    }
   ],
   "source": [
    "#%% Tratando os dados dos autores extraindo apenas os nomes\n",
    "authorsDict = booksDataDf[\"authors\"].to_frame()\n",
    "\n",
    "for index, itens in enumerate(authorsDict[\"authors\"]):\n",
    "  if (len(itens) != 0):\n",
    "    item = itens[0]['name']\n",
    "    authorsDict.at[index, \"authors\"] = item\n",
    "\n",
    "authorsDict.head()"
   ]
  },
  {
   "cell_type": "code",
   "execution_count": 169,
   "metadata": {
    "colab": {
     "base_uri": "https://localhost:8080/",
     "height": 293
    },
    "id": "wEyYZuQvw2V6",
    "outputId": "4c9d4c39-0931-40e2-cdb1-28aa675f7535"
   },
   "outputs": [
    {
     "data": {
      "text/html": [
       "<div>\n",
       "<style scoped>\n",
       "    .dataframe tbody tr th:only-of-type {\n",
       "        vertical-align: middle;\n",
       "    }\n",
       "\n",
       "    .dataframe tbody tr th {\n",
       "        vertical-align: top;\n",
       "    }\n",
       "\n",
       "    .dataframe thead th {\n",
       "        text-align: right;\n",
       "    }\n",
       "</style>\n",
       "<table border=\"1\" class=\"dataframe\">\n",
       "  <thead>\n",
       "    <tr style=\"text-align: right;\">\n",
       "      <th></th>\n",
       "      <th>id</th>\n",
       "      <th>title</th>\n",
       "      <th>authors</th>\n",
       "      <th>translators</th>\n",
       "      <th>subjects</th>\n",
       "      <th>bookshelves</th>\n",
       "      <th>languages</th>\n",
       "      <th>copyright</th>\n",
       "      <th>media_type</th>\n",
       "      <th>formats</th>\n",
       "      <th>download_count</th>\n",
       "    </tr>\n",
       "  </thead>\n",
       "  <tbody>\n",
       "    <tr>\n",
       "      <th>0</th>\n",
       "      <td>84</td>\n",
       "      <td>Frankenstein; Or, The Modern Prometheus</td>\n",
       "      <td>Shelley, Mary Wollstonecraft</td>\n",
       "      <td>[]</td>\n",
       "      <td>[Frankenstein's monster (Fictitious character)...</td>\n",
       "      <td>[Gothic Fiction, Movie Books, Precursors of Sc...</td>\n",
       "      <td>[en]</td>\n",
       "      <td>False</td>\n",
       "      <td>Text</td>\n",
       "      <td>{'text/plain': 'https://www.gutenberg.org/eboo...</td>\n",
       "      <td>84070</td>\n",
       "    </tr>\n",
       "    <tr>\n",
       "      <th>1</th>\n",
       "      <td>1513</td>\n",
       "      <td>Romeo and Juliet</td>\n",
       "      <td>Shakespeare, William</td>\n",
       "      <td>[]</td>\n",
       "      <td>[Conflict of generations -- Drama, Juliet (Fic...</td>\n",
       "      <td>[]</td>\n",
       "      <td>[en]</td>\n",
       "      <td>False</td>\n",
       "      <td>Text</td>\n",
       "      <td>{'application/x-mobipocket-ebook': 'https://ww...</td>\n",
       "      <td>60644</td>\n",
       "    </tr>\n",
       "    <tr>\n",
       "      <th>2</th>\n",
       "      <td>1342</td>\n",
       "      <td>Pride and Prejudice</td>\n",
       "      <td>Austen, Jane</td>\n",
       "      <td>[]</td>\n",
       "      <td>[Courtship -- Fiction, Domestic fiction, Engla...</td>\n",
       "      <td>[Best Books Ever Listings, Harvard Classics]</td>\n",
       "      <td>[en]</td>\n",
       "      <td>False</td>\n",
       "      <td>Text</td>\n",
       "      <td>{'application/octet-stream': 'https://www.gute...</td>\n",
       "      <td>53375</td>\n",
       "    </tr>\n",
       "    <tr>\n",
       "      <th>3</th>\n",
       "      <td>25344</td>\n",
       "      <td>The Scarlet Letter</td>\n",
       "      <td>Hawthorne, Nathaniel</td>\n",
       "      <td>[]</td>\n",
       "      <td>[Adultery -- Fiction, Boston (Mass.) -- Histor...</td>\n",
       "      <td>[Banned Books from Anne Haight's list]</td>\n",
       "      <td>[en]</td>\n",
       "      <td>False</td>\n",
       "      <td>Text</td>\n",
       "      <td>{'text/plain; charset=us-ascii': 'https://www....</td>\n",
       "      <td>38073</td>\n",
       "    </tr>\n",
       "    <tr>\n",
       "      <th>4</th>\n",
       "      <td>11</td>\n",
       "      <td>Alice's Adventures in Wonderland</td>\n",
       "      <td>Carroll, Lewis</td>\n",
       "      <td>[]</td>\n",
       "      <td>[Alice (Fictitious character from Carroll) -- ...</td>\n",
       "      <td>[Children's Literature]</td>\n",
       "      <td>[en]</td>\n",
       "      <td>False</td>\n",
       "      <td>Text</td>\n",
       "      <td>{'text/plain': 'https://www.gutenberg.org/eboo...</td>\n",
       "      <td>30353</td>\n",
       "    </tr>\n",
       "  </tbody>\n",
       "</table>\n",
       "</div>"
      ],
      "text/plain": [
       "      id                                    title  \\\n",
       "0     84  Frankenstein; Or, The Modern Prometheus   \n",
       "1   1513                         Romeo and Juliet   \n",
       "2   1342                      Pride and Prejudice   \n",
       "3  25344                       The Scarlet Letter   \n",
       "4     11         Alice's Adventures in Wonderland   \n",
       "\n",
       "                        authors translators  \\\n",
       "0  Shelley, Mary Wollstonecraft          []   \n",
       "1          Shakespeare, William          []   \n",
       "2                  Austen, Jane          []   \n",
       "3          Hawthorne, Nathaniel          []   \n",
       "4                Carroll, Lewis          []   \n",
       "\n",
       "                                            subjects  \\\n",
       "0  [Frankenstein's monster (Fictitious character)...   \n",
       "1  [Conflict of generations -- Drama, Juliet (Fic...   \n",
       "2  [Courtship -- Fiction, Domestic fiction, Engla...   \n",
       "3  [Adultery -- Fiction, Boston (Mass.) -- Histor...   \n",
       "4  [Alice (Fictitious character from Carroll) -- ...   \n",
       "\n",
       "                                         bookshelves languages  copyright  \\\n",
       "0  [Gothic Fiction, Movie Books, Precursors of Sc...      [en]      False   \n",
       "1                                                 []      [en]      False   \n",
       "2       [Best Books Ever Listings, Harvard Classics]      [en]      False   \n",
       "3             [Banned Books from Anne Haight's list]      [en]      False   \n",
       "4                            [Children's Literature]      [en]      False   \n",
       "\n",
       "  media_type                                            formats  \\\n",
       "0       Text  {'text/plain': 'https://www.gutenberg.org/eboo...   \n",
       "1       Text  {'application/x-mobipocket-ebook': 'https://ww...   \n",
       "2       Text  {'application/octet-stream': 'https://www.gute...   \n",
       "3       Text  {'text/plain; charset=us-ascii': 'https://www....   \n",
       "4       Text  {'text/plain': 'https://www.gutenberg.org/eboo...   \n",
       "\n",
       "   download_count  \n",
       "0           84070  \n",
       "1           60644  \n",
       "2           53375  \n",
       "3           38073  \n",
       "4           30353  "
      ]
     },
     "execution_count": 169,
     "metadata": {},
     "output_type": "execute_result"
    }
   ],
   "source": [
    "#%% Atualizando dados dos nomes dos autores no data frame\n",
    "booksDataDf[\"authors\"] = authorsDict\n",
    "\n",
    "booksDataDf.head()"
   ]
  },
  {
   "cell_type": "code",
   "execution_count": 170,
   "metadata": {
    "colab": {
     "base_uri": "https://localhost:8080/"
    },
    "id": "ceUdLOYf9tgu",
    "outputId": "e86a0d62-dad7-478d-b697-71550aeb5ba3"
   },
   "outputs": [
    {
     "data": {
      "text/plain": [
       "id                 int64\n",
       "title             object\n",
       "authors           object\n",
       "translators       object\n",
       "subjects          object\n",
       "bookshelves       object\n",
       "languages         object\n",
       "copyright           bool\n",
       "media_type        object\n",
       "formats           object\n",
       "download_count     int64\n",
       "dtype: object"
      ]
     },
     "execution_count": 170,
     "metadata": {},
     "output_type": "execute_result"
    }
   ],
   "source": [
    "#%% verificando as tipagens\n",
    "booksDataDf.dtypes"
   ]
  },
  {
   "cell_type": "code",
   "execution_count": 171,
   "metadata": {
    "id": "XVaNqNdaB7ZA"
   },
   "outputs": [],
   "source": [
    "#%% trocando as tipagens das colunas object para string\n",
    "booksDataDf[['title', 'authors','translators','subjects','bookshelves','languages',\n",
    "             'media_type','formats']] = booksDataDf[['title', 'authors','translators',\n",
    "                                                     'subjects','bookshelves','languages',\n",
    "                                                     'media_type','formats']].astype(str)"
   ]
  },
  {
   "cell_type": "code",
   "execution_count": 172,
   "metadata": {
    "colab": {
     "base_uri": "https://localhost:8080/"
    },
    "id": "293u4nReCY8P",
    "outputId": "1ffbd356-4d23-478a-ed12-b5b6dcb0dd39"
   },
   "outputs": [
    {
     "data": {
      "text/plain": [
       "id                736\n",
       "title             720\n",
       "authors           410\n",
       "translators       138\n",
       "subjects          677\n",
       "bookshelves       182\n",
       "languages          19\n",
       "copyright           2\n",
       "media_type          1\n",
       "formats           736\n",
       "download_count    634\n",
       "dtype: int64"
      ]
     },
     "execution_count": 172,
     "metadata": {},
     "output_type": "execute_result"
    }
   ],
   "source": [
    "#%% verificando a quantidade de dados unicos em cada coluna\n",
    "booksDataDf.nunique()"
   ]
  },
  {
   "cell_type": "code",
   "execution_count": 173,
   "metadata": {
    "colab": {
     "base_uri": "https://localhost:8080/"
    },
    "id": "4kkuj2kTIPXL",
    "outputId": "d5df88c7-7cdc-4dc2-dddb-3ebfd70c143c"
   },
   "outputs": [
    {
     "name": "stdout",
     "output_type": "stream",
     "text": [
      "<class 'pandas.core.frame.DataFrame'>\n",
      "Int64Index: 16 entries, 41 to 664\n",
      "Data columns (total 11 columns):\n",
      " #   Column          Non-Null Count  Dtype \n",
      "---  ------          --------------  ----- \n",
      " 0   id              16 non-null     int64 \n",
      " 1   title           16 non-null     object\n",
      " 2   authors         16 non-null     object\n",
      " 3   translators     16 non-null     object\n",
      " 4   subjects        16 non-null     object\n",
      " 5   bookshelves     16 non-null     object\n",
      " 6   languages       16 non-null     object\n",
      " 7   copyright       16 non-null     bool  \n",
      " 8   media_type      16 non-null     object\n",
      " 9   formats         16 non-null     object\n",
      " 10  download_count  16 non-null     int64 \n",
      "dtypes: bool(1), int64(2), object(8)\n",
      "memory usage: 1.4+ KB\n"
     ]
    }
   ],
   "source": [
    "#%% por ter mais ids unicos que titulos unicos, percebo que há titulos repetidos e irei investigar isso\n",
    "duplicatedDf = booksDataDf[booksDataDf.duplicated(['title'])]\n",
    "duplicatedDf.info()"
   ]
  },
  {
   "cell_type": "code",
   "execution_count": 174,
   "metadata": {
    "colab": {
     "base_uri": "https://localhost:8080/",
     "height": 206
    },
    "id": "zNzWlo7kMPqm",
    "outputId": "db4bb8b8-3dbb-40d8-b75f-7daa7dbab7dd"
   },
   "outputs": [
    {
     "data": {
      "text/html": [
       "<div>\n",
       "<style scoped>\n",
       "    .dataframe tbody tr th:only-of-type {\n",
       "        vertical-align: middle;\n",
       "    }\n",
       "\n",
       "    .dataframe tbody tr th {\n",
       "        vertical-align: top;\n",
       "    }\n",
       "\n",
       "    .dataframe thead th {\n",
       "        text-align: right;\n",
       "    }\n",
       "</style>\n",
       "<table border=\"1\" class=\"dataframe\">\n",
       "  <thead>\n",
       "    <tr style=\"text-align: right;\">\n",
       "      <th></th>\n",
       "      <th>title</th>\n",
       "      <th>download_count</th>\n",
       "    </tr>\n",
       "  </thead>\n",
       "  <tbody>\n",
       "    <tr>\n",
       "      <th>171</th>\n",
       "      <td>Frankenstein; Or, The Modern Prometheus</td>\n",
       "      <td>101031</td>\n",
       "    </tr>\n",
       "    <tr>\n",
       "      <th>338</th>\n",
       "      <td>Romeo and Juliet</td>\n",
       "      <td>60644</td>\n",
       "    </tr>\n",
       "    <tr>\n",
       "      <th>321</th>\n",
       "      <td>Pride and Prejudice</td>\n",
       "      <td>55729</td>\n",
       "    </tr>\n",
       "    <tr>\n",
       "      <th>575</th>\n",
       "      <td>The Scarlet Letter</td>\n",
       "      <td>39258</td>\n",
       "    </tr>\n",
       "    <tr>\n",
       "      <th>43</th>\n",
       "      <td>Alice's Adventures in Wonderland</td>\n",
       "      <td>32728</td>\n",
       "    </tr>\n",
       "  </tbody>\n",
       "</table>\n",
       "</div>"
      ],
      "text/plain": [
       "                                       title  download_count\n",
       "171  Frankenstein; Or, The Modern Prometheus          101031\n",
       "338                         Romeo and Juliet           60644\n",
       "321                      Pride and Prejudice           55729\n",
       "575                       The Scarlet Letter           39258\n",
       "43          Alice's Adventures in Wonderland           32728"
      ]
     },
     "execution_count": 174,
     "metadata": {},
     "output_type": "execute_result"
    }
   ],
   "source": [
    "#%% realmente tinham titulos repetidos, o que seria um problema para dizer quantos\n",
    "#%% downloads haveriam de verdade em cada titulo\n",
    "groupbyDF = booksDataDf.groupby(['title'], as_index=False)['download_count'].sum()\n",
    "groupbyDF.sort_values('download_count', ascending=False).head()"
   ]
  },
  {
   "cell_type": "code",
   "execution_count": 175,
   "metadata": {
    "colab": {
     "base_uri": "https://localhost:8080/",
     "height": 206
    },
    "id": "cCaRilURjOL0",
    "outputId": "97438de1-3c73-4420-c048-53177f0695cb"
   },
   "outputs": [
    {
     "data": {
      "text/html": [
       "<div>\n",
       "<style scoped>\n",
       "    .dataframe tbody tr th:only-of-type {\n",
       "        vertical-align: middle;\n",
       "    }\n",
       "\n",
       "    .dataframe tbody tr th {\n",
       "        vertical-align: top;\n",
       "    }\n",
       "\n",
       "    .dataframe thead th {\n",
       "        text-align: right;\n",
       "    }\n",
       "</style>\n",
       "<table border=\"1\" class=\"dataframe\">\n",
       "  <thead>\n",
       "    <tr style=\"text-align: right;\">\n",
       "      <th></th>\n",
       "      <th>title</th>\n",
       "      <th>download_count</th>\n",
       "    </tr>\n",
       "  </thead>\n",
       "  <tbody>\n",
       "    <tr>\n",
       "      <th>158</th>\n",
       "      <td>Eve's Diary, Complete</td>\n",
       "      <td>1042</td>\n",
       "    </tr>\n",
       "    <tr>\n",
       "      <th>47</th>\n",
       "      <td>An Account of Egypt</td>\n",
       "      <td>1040</td>\n",
       "    </tr>\n",
       "    <tr>\n",
       "      <th>541</th>\n",
       "      <td>The Piazza Tales</td>\n",
       "      <td>1040</td>\n",
       "    </tr>\n",
       "    <tr>\n",
       "      <th>661</th>\n",
       "      <td>The railhead at Kysyl Khoto</td>\n",
       "      <td>1039</td>\n",
       "    </tr>\n",
       "    <tr>\n",
       "      <th>251</th>\n",
       "      <td>Milton: Minor Poems</td>\n",
       "      <td>1037</td>\n",
       "    </tr>\n",
       "  </tbody>\n",
       "</table>\n",
       "</div>"
      ],
      "text/plain": [
       "                           title  download_count\n",
       "158        Eve's Diary, Complete            1042\n",
       "47           An Account of Egypt            1040\n",
       "541             The Piazza Tales            1040\n",
       "661  The railhead at Kysyl Khoto            1039\n",
       "251          Milton: Minor Poems            1037"
      ]
     },
     "execution_count": 175,
     "metadata": {},
     "output_type": "execute_result"
    }
   ],
   "source": [
    "#%% na visão cima podemos ver os 5 livros mais baixados\n",
    "#%% nesta logo abaixo, podemos ver os 5 livros menos baixados\n",
    "groupbyDF.sort_values('download_count', ascending=False).tail()"
   ]
  },
  {
   "cell_type": "code",
   "execution_count": 176,
   "metadata": {
    "colab": {
     "base_uri": "https://localhost:8080/",
     "height": 300
    },
    "id": "JuyEFVn6kaIO",
    "outputId": "41c3729f-102e-44e2-8d3e-985c2e8d44ae"
   },
   "outputs": [
    {
     "data": {
      "text/html": [
       "<div>\n",
       "<style scoped>\n",
       "    .dataframe tbody tr th:only-of-type {\n",
       "        vertical-align: middle;\n",
       "    }\n",
       "\n",
       "    .dataframe tbody tr th {\n",
       "        vertical-align: top;\n",
       "    }\n",
       "\n",
       "    .dataframe thead th {\n",
       "        text-align: right;\n",
       "    }\n",
       "</style>\n",
       "<table border=\"1\" class=\"dataframe\">\n",
       "  <thead>\n",
       "    <tr style=\"text-align: right;\">\n",
       "      <th></th>\n",
       "      <th>download_count</th>\n",
       "    </tr>\n",
       "  </thead>\n",
       "  <tbody>\n",
       "    <tr>\n",
       "      <th>count</th>\n",
       "      <td>720.00</td>\n",
       "    </tr>\n",
       "    <tr>\n",
       "      <th>mean</th>\n",
       "      <td>3563.16</td>\n",
       "    </tr>\n",
       "    <tr>\n",
       "      <th>std</th>\n",
       "      <td>6201.01</td>\n",
       "    </tr>\n",
       "    <tr>\n",
       "      <th>min</th>\n",
       "      <td>1037.00</td>\n",
       "    </tr>\n",
       "    <tr>\n",
       "      <th>25%</th>\n",
       "      <td>1333.25</td>\n",
       "    </tr>\n",
       "    <tr>\n",
       "      <th>50%</th>\n",
       "      <td>1751.50</td>\n",
       "    </tr>\n",
       "    <tr>\n",
       "      <th>75%</th>\n",
       "      <td>3205.50</td>\n",
       "    </tr>\n",
       "    <tr>\n",
       "      <th>max</th>\n",
       "      <td>101031.00</td>\n",
       "    </tr>\n",
       "  </tbody>\n",
       "</table>\n",
       "</div>"
      ],
      "text/plain": [
       "       download_count\n",
       "count          720.00\n",
       "mean          3563.16\n",
       "std           6201.01\n",
       "min           1037.00\n",
       "25%           1333.25\n",
       "50%           1751.50\n",
       "75%           3205.50\n",
       "max         101031.00"
      ]
     },
     "execution_count": 176,
     "metadata": {},
     "output_type": "execute_result"
    }
   ],
   "source": [
    "#%% verificando alguns\n",
    "groupbyDF.describe().round(2)"
   ]
  },
  {
   "cell_type": "code",
   "execution_count": null,
   "metadata": {
    "id": "sq7V3Z89mERU"
   },
   "outputs": [],
   "source": []
  }
 ],
 "metadata": {
  "colab": {
   "include_colab_link": true,
   "provenance": []
  },
  "kernelspec": {
   "display_name": "Python 3 (ipykernel)",
   "language": "python",
   "name": "python3"
  },
  "language_info": {
   "codemirror_mode": {
    "name": "ipython",
    "version": 3
   },
   "file_extension": ".py",
   "mimetype": "text/x-python",
   "name": "python",
   "nbconvert_exporter": "python",
   "pygments_lexer": "ipython3",
   "version": "3.9.18"
  }
 },
 "nbformat": 4,
 "nbformat_minor": 1
}
